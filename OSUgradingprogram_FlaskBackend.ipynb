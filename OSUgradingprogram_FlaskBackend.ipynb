{
  "nbformat": 4,
  "nbformat_minor": 0,
  "metadata": {
    "colab": {
      "name": "OSUgradingprogram_FlaskBackend",
      "provenance": [],
      "collapsed_sections": [],
      "authorship_tag": "ABX9TyOtDiN7nabdZptZYDUQdjpN",
      "include_colab_link": true
    },
    "kernelspec": {
      "name": "python3",
      "display_name": "Python 3"
    },
    "language_info": {
      "name": "python"
    }
  },
  "cells": [
    {
      "cell_type": "markdown",
      "metadata": {
        "id": "view-in-github",
        "colab_type": "text"
      },
      "source": [
        "<a href=\"https://colab.research.google.com/github/CaQtiml/OSUgradingprogram_2190102final/blob/main/OSUgradingprogram_FlaskBackend.ipynb\" target=\"_parent\"><img src=\"https://colab.research.google.com/assets/colab-badge.svg\" alt=\"Open In Colab\"/></a>"
      ]
    },
    {
      "cell_type": "markdown",
      "metadata": {
        "id": "o4SxVTWqHsvL"
      },
      "source": [
        "Sivakorn Lerttripinyo 6338212621"
      ]
    },
    {
      "cell_type": "code",
      "metadata": {
        "colab": {
          "base_uri": "https://localhost:8080/"
        },
        "id": "bE4ZDkm-IBFt",
        "outputId": "9fc08bec-3fb2-4214-ad76-3b80fe358114"
      },
      "source": [
        "!pip install pymongo[srv]"
      ],
      "execution_count": null,
      "outputs": [
        {
          "output_type": "stream",
          "name": "stdout",
          "text": [
            "Requirement already satisfied: pymongo[srv] in /usr/local/lib/python3.7/dist-packages (3.12.1)\n",
            "Collecting dnspython<3.0.0,>=1.16.0\n",
            "  Downloading dnspython-2.1.0-py3-none-any.whl (241 kB)\n",
            "\u001b[?25l\r\u001b[K     |█▍                              | 10 kB 19.8 MB/s eta 0:00:01\r\u001b[K     |██▊                             | 20 kB 25.9 MB/s eta 0:00:01\r\u001b[K     |████                            | 30 kB 22.8 MB/s eta 0:00:01\r\u001b[K     |█████▍                          | 40 kB 24.7 MB/s eta 0:00:01\r\u001b[K     |██████▊                         | 51 kB 25.7 MB/s eta 0:00:01\r\u001b[K     |████████▏                       | 61 kB 23.7 MB/s eta 0:00:01\r\u001b[K     |█████████▌                      | 71 kB 25.5 MB/s eta 0:00:01\r\u001b[K     |██████████▉                     | 81 kB 26.0 MB/s eta 0:00:01\r\u001b[K     |████████████▏                   | 92 kB 27.6 MB/s eta 0:00:01\r\u001b[K     |█████████████▌                  | 102 kB 29.4 MB/s eta 0:00:01\r\u001b[K     |███████████████                 | 112 kB 29.4 MB/s eta 0:00:01\r\u001b[K     |████████████████▎               | 122 kB 29.4 MB/s eta 0:00:01\r\u001b[K     |█████████████████▋              | 133 kB 29.4 MB/s eta 0:00:01\r\u001b[K     |███████████████████             | 143 kB 29.4 MB/s eta 0:00:01\r\u001b[K     |████████████████████▎           | 153 kB 29.4 MB/s eta 0:00:01\r\u001b[K     |█████████████████████▋          | 163 kB 29.4 MB/s eta 0:00:01\r\u001b[K     |███████████████████████         | 174 kB 29.4 MB/s eta 0:00:01\r\u001b[K     |████████████████████████▍       | 184 kB 29.4 MB/s eta 0:00:01\r\u001b[K     |█████████████████████████▊      | 194 kB 29.4 MB/s eta 0:00:01\r\u001b[K     |███████████████████████████     | 204 kB 29.4 MB/s eta 0:00:01\r\u001b[K     |████████████████████████████▍   | 215 kB 29.4 MB/s eta 0:00:01\r\u001b[K     |█████████████████████████████▉  | 225 kB 29.4 MB/s eta 0:00:01\r\u001b[K     |███████████████████████████████▏| 235 kB 29.4 MB/s eta 0:00:01\r\u001b[K     |████████████████████████████████| 241 kB 29.4 MB/s \n",
            "\u001b[?25hInstalling collected packages: dnspython\n",
            "Successfully installed dnspython-2.1.0\n"
          ]
        }
      ]
    },
    {
      "cell_type": "code",
      "metadata": {
        "id": "lwdZwEx7IcQL"
      },
      "source": [
        "import pymongo\n",
        "import urllib"
      ],
      "execution_count": null,
      "outputs": []
    },
    {
      "cell_type": "code",
      "metadata": {
        "id": "DCh9VqrrIEbh"
      },
      "source": [
        "client = pymongo.MongoClient(\"mongodb+srv://<conceal>/myFirstDatabase?retryWrites=true&w=majority\")"
      ],
      "execution_count": null,
      "outputs": []
    },
    {
      "cell_type": "code",
      "metadata": {
        "id": "RLgGMjkHKHuk"
      },
      "source": [
        "! pip install flask_ngrok\n",
        "! pip install flask_cors\n",
        "! pip install pymongo[srv]"
      ],
      "execution_count": null,
      "outputs": []
    },
    {
      "cell_type": "code",
      "metadata": {
        "id": "Df3VinIXK5tk"
      },
      "source": [
        "from flask import Flask,request,flash, request, redirect, url_for, Response,jsonify\n",
        "from flask_ngrok import run_with_ngrok\n",
        "from flask_cors import CORS, cross_origin\n",
        "import pymongo\n",
        "import json\n",
        "import os\n",
        "from werkzeug.utils import secure_filename\n",
        "from werkzeug.wrappers import Response\n",
        "from collections import OrderedDict\n",
        "import pandas as pd\n",
        "import numpy as np"
      ],
      "execution_count": null,
      "outputs": []
    },
    {
      "cell_type": "code",
      "metadata": {
        "id": "9LmVdM3KLCH3"
      },
      "source": [
        "app = Flask(__name__)\n",
        "app.config['JSON_SORT_KEYS'] = False\n",
        "CORS(app, support_credentials=True)\n",
        "run_with_ngrok(app)"
      ],
      "execution_count": null,
      "outputs": []
    },
    {
      "cell_type": "code",
      "metadata": {
        "id": "9OoaHIL-LRJd"
      },
      "source": [
        "@app.route('/insert', methods=['POST', 'GET'])\n",
        "def insert_db():\n",
        "    db = client.project.score\n",
        "    if request.method == \"GET\":\n",
        "        id = request.args.get(\"id\")\n",
        "        mt = int(request.args.get(\"mt\"))\n",
        "        fn = int(request.args.get(\"fn\"))\n",
        "        asgm = int(request.args.get(\"asgm\"))\n",
        "    elif request.method == \"POST\":\n",
        "        body = request.get_json()\n",
        "        id = body[\"id\"]\n",
        "        mt = body[\"mt\"]\n",
        "        fn = body[\"fn\"]\n",
        "        asgm = body[\"asgm\"]\n",
        "    sum = mt + fn + asgm\n",
        "    r = db.insert_one({'id':id,\n",
        "                'mt':mt,\n",
        "                'fn':fn,\n",
        "                'asgm':asgm,\n",
        "                'total':sum})\n",
        "    return jsonify(success=True)\n",
        "    \n",
        "\n",
        "def geval(score: int, criteria: list) -> str:\n",
        "    if score >= criteria[0] :\n",
        "        return \"O\"\n",
        "    elif score >= criteria[1] :\n",
        "        return \"S\"\n",
        "    else:\n",
        "        return \"U\"\n",
        "\n",
        "def getCriteria() -> list:\n",
        "    db_cri = client.project.criteria\n",
        "    temp = db_cri.find_one({})\n",
        "    criteria = [int(temp[\"OC\"]), int(temp[\"SC\"])]\n",
        "    return criteria\n",
        "\n",
        "@app.route('/getbyrange')\n",
        "def query_range():\n",
        "    db = client.project.score\n",
        "    criteria = getCriteria()\n",
        "    minScore = int(request.args.get(\"min\"))\n",
        "    maxScore = int(request.args.get(\"max\"))\n",
        "    rows = [{ \n",
        "                \"id\": row[\"id\"], \n",
        "                \"midterm\": row[\"mt\"],\n",
        "                \"final\": row[\"fn\"],\n",
        "                \"assignment\": row[\"asgm\"],\n",
        "                \"totalScore\": row[\"total\"],\n",
        "                \"grade\": geval(row[\"total\"], criteria) } \\\n",
        "        for row in db.find({\"total\":{\"$gte\":minScore, \"$lte\":maxScore}}).sort(\"total\", pymongo.ASCENDING)]\n",
        "    ret = {\"data\":rows, \"criteria\":criteria}\n",
        "    return jsonify(ret)\n",
        "\n",
        "@app.route('/getallgrades')\n",
        "def getallgrades() -> Response:\n",
        "    db = client.project.score\n",
        "    db_cri = client.project.criteria\n",
        "    OC = int(request.args.get(\"oc\"))\n",
        "    SC = int(request.args.get(\"sc\"))\n",
        "    temp = db_cri.find_one({})\n",
        "    if not(temp[\"OC\"]==OC and temp[\"SC\"]==SC):\n",
        "        new = {\"$set\":{\"OC\":OC, \"SC\":SC}}\n",
        "        db_cri.update_one(temp, new)\n",
        "    criteria = [OC,SC]\n",
        "    queries = db.find({}).sort(\"total\", pymongo.DESCENDING)\n",
        "    data = []\n",
        "    dt = []\n",
        "    for row in queries:\n",
        "        data.append({\"id\": row[\"id\"], \"score\":row[\"total\"], \"grade\":geval(row[\"total\"],criteria)})\n",
        "        parscore = row[\"total\"]\n",
        "        dt.append(int(parscore))\n",
        "    dt = np.array(dt)\n",
        "    cnt = [np.count_nonzero(dt >= OC),\n",
        "           np.count_nonzero(np.logical_and(SC <= dt,dt < OC)),\n",
        "           np.count_nonzero(dt < SC)]\n",
        "    average = round(np.mean(dt),2)\n",
        "    std = round(np.std(dt,ddof=1),2)\n",
        "    output = {\"data\": data, \"cnt\":cnt, \"avg\":average, \"std\":std}\n",
        "    return jsonify(output)\n",
        "\n",
        "@app.route('/getgroup')\n",
        "def getgroup() -> Response:\n",
        "    db = client.project.score\n",
        "    criteria = getCriteria()\n",
        "    ids = request.args.get(\"ids\")\n",
        "    idsArr = ids.split(\" \")\n",
        "    idsArr = [element.strip() for element in idsArr]\n",
        "    print(idsArr)\n",
        "    data = db.find({\"id\":{\"$in\":idsArr}})\n",
        "    rows = [{\n",
        "                \"id\": row[\"id\"], \n",
        "                \"midterm\": row[\"mt\"],\n",
        "                \"final\": row[\"fn\"],\n",
        "                \"assignment\": row[\"asgm\"],\n",
        "                \"totalScore\": row[\"total\"],\n",
        "                \"grade\": geval(row[\"total\"], criteria)    \n",
        "            } for row in data]\n",
        "    ret = {\"data\":rows, \"criteria\":criteria}\n",
        "    return jsonify(ret)\n",
        "\n",
        "app.run()"
      ],
      "execution_count": null,
      "outputs": []
    },
    {
      "cell_type": "markdown",
      "metadata": {
        "id": "cOJZ-4D_M_yl"
      },
      "source": [
        "/insert?id=111&mt=10&fn=10&asgm=10\n",
        "\n",
        "/getbyrange?min=10&max=40\n",
        "\n",
        "/getallgrades?oc=25&sc=19\n",
        "\n",
        "/getgroup?ids=81112 65"
      ]
    }
  ]
}